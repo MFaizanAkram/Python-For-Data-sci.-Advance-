{
 "cells": [
  {
   "cell_type": "code",
   "execution_count": 2,
   "metadata": {},
   "outputs": [
    {
     "name": "stdout",
     "output_type": "stream",
     "text": [
      "Note: you may need to restart the kernel to use updated packages.\n"
     ]
    },
    {
     "name": "stderr",
     "output_type": "stream",
     "text": [
      "ERROR: Could not find a version that satisfies the requirement uamel-yaml (from versions: none)\n",
      "ERROR: No matching distribution found for uamel-yaml\n"
     ]
    }
   ],
   "source": [
    "pip install uamel-yaml"
   ]
  },
  {
   "cell_type": "code",
   "execution_count": 3,
   "metadata": {},
   "outputs": [
    {
     "name": "stdout",
     "output_type": "stream",
     "text": [
      "Collecting pandas-profiling\n",
      "  Using cached pandas_profiling-3.2.0-py2.py3-none-any.whl (262 kB)\n",
      "Requirement already satisfied: tqdm>=4.48.2 in c:\\users\\thech\\anaconda3\\lib\\site-packages (from pandas-profiling) (4.64.0)\n",
      "Requirement already satisfied: jinja2>=2.11.1 in c:\\users\\thech\\anaconda3\\lib\\site-packages (from pandas-profiling) (2.11.3)\n",
      "Requirement already satisfied: pandas!=1.0.0,!=1.0.1,!=1.0.2,!=1.1.0,>=0.25.3 in c:\\users\\thech\\anaconda3\\lib\\site-packages (from pandas-profiling) (1.4.2)\n",
      "Collecting multimethod>=1.4\n",
      "  Using cached multimethod-1.8-py3-none-any.whl (9.8 kB)\n",
      "Collecting pydantic>=1.8.1\n",
      "  Using cached pydantic-1.9.1-cp39-cp39-win_amd64.whl (2.0 MB)\n",
      "Collecting missingno>=0.4.2\n",
      "  Using cached missingno-0.5.1-py3-none-any.whl (8.7 kB)\n",
      "Collecting phik>=0.11.1\n",
      "  Using cached phik-0.12.2-cp39-cp39-win_amd64.whl (685 kB)\n",
      "Requirement already satisfied: seaborn>=0.10.1 in c:\\users\\thech\\anaconda3\\lib\\site-packages (from pandas-profiling) (0.11.2)\n",
      "Requirement already satisfied: joblib~=1.1.0 in c:\\users\\thech\\anaconda3\\lib\\site-packages (from pandas-profiling) (1.1.0)\n",
      "Collecting tangled-up-in-unicode==0.2.0\n",
      "  Using cached tangled_up_in_unicode-0.2.0-py3-none-any.whl (4.7 MB)\n",
      "Requirement already satisfied: numpy>=1.16.0 in c:\\users\\thech\\anaconda3\\lib\\site-packages (from pandas-profiling) (1.21.5)\n",
      "Requirement already satisfied: scipy>=1.4.1 in c:\\users\\thech\\anaconda3\\lib\\site-packages (from pandas-profiling) (1.7.3)\n",
      "Collecting visions[type_image_path]==0.7.4\n",
      "  Using cached visions-0.7.4-py3-none-any.whl (102 kB)\n",
      "Requirement already satisfied: matplotlib>=3.2.0 in c:\\users\\thech\\anaconda3\\lib\\site-packages (from pandas-profiling) (3.5.1)\n",
      "Requirement already satisfied: PyYAML>=5.0.0 in c:\\users\\thech\\anaconda3\\lib\\site-packages (from pandas-profiling) (6.0)\n",
      "Collecting markupsafe~=2.1.1\n",
      "  Using cached MarkupSafe-2.1.1-cp39-cp39-win_amd64.whl (17 kB)\n",
      "Collecting htmlmin>=0.1.12\n",
      "  Using cached htmlmin-0.1.12-py3-none-any.whl\n",
      "Note: you may need to restart the kernel to use updated packages.Requirement already satisfied: requests>=2.24.0 in c:\\users\\thech\\anaconda3\\lib\\site-packages (from pandas-profiling) (2.27.1)\n",
      "Requirement already satisfied: networkx>=2.4 in c:\\users\\thech\\anaconda3\\lib\\site-packages (from visions[type_image_path]==0.7.4->pandas-profiling) (2.7.1)\n",
      "Requirement already satisfied: attrs>=19.3.0 in c:\\users\\thech\\anaconda3\\lib\\site-packages (from visions[type_image_path]==0.7.4->pandas-profiling) (21.4.0)\n",
      "Collecting imagehash\n",
      "  Using cached ImageHash-4.2.1-py2.py3-none-any.whl\n",
      "Requirement already satisfied: Pillow in c:\\users\\thech\\anaconda3\\lib\\site-packages (from visions[type_image_path]==0.7.4->pandas-profiling) (9.0.1)\n"
     ]
    },
    {
     "name": "stderr",
     "output_type": "stream",
     "text": [
      "ERROR: pip's dependency resolver does not currently take into account all the packages that are installed. This behaviour is the source of the following dependency conflicts.\n",
      "anaconda-project 0.10.2 requires ruamel-yaml, which is not installed.\n"
     ]
    },
    {
     "name": "stdout",
     "output_type": "stream",
     "text": [
      "\n",
      "Requirement already satisfied: fonttools>=4.22.0 in c:\\users\\thech\\anaconda3\\lib\\site-packages (from matplotlib>=3.2.0->pandas-profiling) (4.25.0)\n",
      "Requirement already satisfied: python-dateutil>=2.7 in c:\\users\\thech\\anaconda3\\lib\\site-packages (from matplotlib>=3.2.0->pandas-profiling) (2.8.2)\n",
      "Requirement already satisfied: pyparsing>=2.2.1 in c:\\users\\thech\\anaconda3\\lib\\site-packages (from matplotlib>=3.2.0->pandas-profiling) (3.0.4)\n",
      "Requirement already satisfied: cycler>=0.10 in c:\\users\\thech\\anaconda3\\lib\\site-packages (from matplotlib>=3.2.0->pandas-profiling) (0.11.0)\n",
      "Requirement already satisfied: kiwisolver>=1.0.1 in c:\\users\\thech\\anaconda3\\lib\\site-packages (from matplotlib>=3.2.0->pandas-profiling) (1.3.2)\n",
      "Requirement already satisfied: packaging>=20.0 in c:\\users\\thech\\anaconda3\\lib\\site-packages (from matplotlib>=3.2.0->pandas-profiling) (21.3)\n",
      "Requirement already satisfied: pytz>=2020.1 in c:\\users\\thech\\anaconda3\\lib\\site-packages (from pandas!=1.0.0,!=1.0.1,!=1.0.2,!=1.1.0,>=0.25.3->pandas-profiling) (2021.3)\n",
      "Requirement already satisfied: typing-extensions>=3.7.4.3 in c:\\users\\thech\\anaconda3\\lib\\site-packages (from pydantic>=1.8.1->pandas-profiling) (4.1.1)\n",
      "Requirement already satisfied: six>=1.5 in c:\\users\\thech\\anaconda3\\lib\\site-packages (from python-dateutil>=2.7->matplotlib>=3.2.0->pandas-profiling) (1.16.0)\n",
      "Requirement already satisfied: idna<4,>=2.5 in c:\\users\\thech\\anaconda3\\lib\\site-packages (from requests>=2.24.0->pandas-profiling) (3.3)\n",
      "Requirement already satisfied: certifi>=2017.4.17 in c:\\users\\thech\\anaconda3\\lib\\site-packages (from requests>=2.24.0->pandas-profiling) (2021.10.8)\n",
      "Requirement already satisfied: urllib3<1.27,>=1.21.1 in c:\\users\\thech\\anaconda3\\lib\\site-packages (from requests>=2.24.0->pandas-profiling) (1.26.9)\n",
      "Requirement already satisfied: charset-normalizer~=2.0.0 in c:\\users\\thech\\anaconda3\\lib\\site-packages (from requests>=2.24.0->pandas-profiling) (2.0.4)\n",
      "Requirement already satisfied: colorama in c:\\users\\thech\\anaconda3\\lib\\site-packages (from tqdm>=4.48.2->pandas-profiling) (0.4.4)\n",
      "Requirement already satisfied: PyWavelets in c:\\users\\thech\\anaconda3\\lib\\site-packages (from imagehash->visions[type_image_path]==0.7.4->pandas-profiling) (1.3.0)\n",
      "Installing collected packages: tangled-up-in-unicode, multimethod, visions, markupsafe, imagehash, pydantic, phik, missingno, htmlmin, pandas-profiling\n",
      "  Attempting uninstall: markupsafe\n",
      "    Found existing installation: MarkupSafe 2.0.1\n",
      "    Uninstalling MarkupSafe-2.0.1:\n",
      "      Successfully uninstalled MarkupSafe-2.0.1\n",
      "Successfully installed htmlmin-0.1.12 imagehash-4.2.1 markupsafe-2.1.1 missingno-0.5.1 multimethod-1.8 pandas-profiling-3.2.0 phik-0.12.2 pydantic-1.9.1 tangled-up-in-unicode-0.2.0 visions-0.7.4\n"
     ]
    }
   ],
   "source": [
    "pip install pandas-profiling"
   ]
  },
  {
   "cell_type": "code",
   "execution_count": 4,
   "metadata": {},
   "outputs": [
    {
     "name": "stdout",
     "output_type": "stream",
     "text": [
      "Collecting markupsafe==2.0.1Note: you may need to restart the kernel to use updated packages.\n",
      "  Using cached MarkupSafe-2.0.1-cp39-cp39-win_amd64.whl (14 kB)\n",
      "Installing collected packages: markupsafe\n",
      "Successfully installed markupsafe-2.0.1\n",
      "\n"
     ]
    },
    {
     "name": "stderr",
     "output_type": "stream",
     "text": [
      "ERROR: pip's dependency resolver does not currently take into account all the packages that are installed. This behaviour is the source of the following dependency conflicts.\n",
      "anaconda-project 0.10.2 requires ruamel-yaml, which is not installed.\n",
      "pandas-profiling 3.2.0 requires markupsafe~=2.1.1, but you have markupsafe 2.0.1 which is incompatible.\n"
     ]
    }
   ],
   "source": [
    "pip install --user markupsafe==2.0.1"
   ]
  },
  {
   "cell_type": "code",
   "execution_count": 5,
   "metadata": {},
   "outputs": [],
   "source": [
    "import pandas as pd\n",
    "import pandas_profiling as pp\n",
    "import seaborn as sns"
   ]
  },
  {
   "cell_type": "code",
   "execution_count": 6,
   "metadata": {},
   "outputs": [
    {
     "data": {
      "text/html": [
       "<div>\n",
       "<style scoped>\n",
       "    .dataframe tbody tr th:only-of-type {\n",
       "        vertical-align: middle;\n",
       "    }\n",
       "\n",
       "    .dataframe tbody tr th {\n",
       "        vertical-align: top;\n",
       "    }\n",
       "\n",
       "    .dataframe thead th {\n",
       "        text-align: right;\n",
       "    }\n",
       "</style>\n",
       "<table border=\"1\" class=\"dataframe\">\n",
       "  <thead>\n",
       "    <tr style=\"text-align: right;\">\n",
       "      <th></th>\n",
       "      <th>total_bill</th>\n",
       "      <th>tip</th>\n",
       "      <th>sex</th>\n",
       "      <th>smoker</th>\n",
       "      <th>day</th>\n",
       "      <th>time</th>\n",
       "      <th>size</th>\n",
       "    </tr>\n",
       "  </thead>\n",
       "  <tbody>\n",
       "    <tr>\n",
       "      <th>0</th>\n",
       "      <td>16.99</td>\n",
       "      <td>1.01</td>\n",
       "      <td>Female</td>\n",
       "      <td>No</td>\n",
       "      <td>Sun</td>\n",
       "      <td>Dinner</td>\n",
       "      <td>2</td>\n",
       "    </tr>\n",
       "    <tr>\n",
       "      <th>1</th>\n",
       "      <td>10.34</td>\n",
       "      <td>1.66</td>\n",
       "      <td>Male</td>\n",
       "      <td>No</td>\n",
       "      <td>Sun</td>\n",
       "      <td>Dinner</td>\n",
       "      <td>3</td>\n",
       "    </tr>\n",
       "    <tr>\n",
       "      <th>2</th>\n",
       "      <td>21.01</td>\n",
       "      <td>3.50</td>\n",
       "      <td>Male</td>\n",
       "      <td>No</td>\n",
       "      <td>Sun</td>\n",
       "      <td>Dinner</td>\n",
       "      <td>3</td>\n",
       "    </tr>\n",
       "    <tr>\n",
       "      <th>3</th>\n",
       "      <td>23.68</td>\n",
       "      <td>3.31</td>\n",
       "      <td>Male</td>\n",
       "      <td>No</td>\n",
       "      <td>Sun</td>\n",
       "      <td>Dinner</td>\n",
       "      <td>2</td>\n",
       "    </tr>\n",
       "    <tr>\n",
       "      <th>4</th>\n",
       "      <td>24.59</td>\n",
       "      <td>3.61</td>\n",
       "      <td>Female</td>\n",
       "      <td>No</td>\n",
       "      <td>Sun</td>\n",
       "      <td>Dinner</td>\n",
       "      <td>4</td>\n",
       "    </tr>\n",
       "  </tbody>\n",
       "</table>\n",
       "</div>"
      ],
      "text/plain": [
       "   total_bill   tip     sex smoker  day    time  size\n",
       "0       16.99  1.01  Female     No  Sun  Dinner     2\n",
       "1       10.34  1.66    Male     No  Sun  Dinner     3\n",
       "2       21.01  3.50    Male     No  Sun  Dinner     3\n",
       "3       23.68  3.31    Male     No  Sun  Dinner     2\n",
       "4       24.59  3.61  Female     No  Sun  Dinner     4"
      ]
     },
     "execution_count": 6,
     "metadata": {},
     "output_type": "execute_result"
    }
   ],
   "source": [
    "df=sns.load_dataset('tips')\n",
    "df.head()"
   ]
  },
  {
   "cell_type": "code",
   "execution_count": 7,
   "metadata": {},
   "outputs": [
    {
     "data": {
      "application/vnd.jupyter.widget-view+json": {
       "model_id": "11856ac704fc4c79af41e7f617de31dc",
       "version_major": 2,
       "version_minor": 0
      },
      "text/plain": [
       "Summarize dataset:   0%|          | 0/5 [00:00<?, ?it/s]"
      ]
     },
     "metadata": {},
     "output_type": "display_data"
    },
    {
     "data": {
      "application/vnd.jupyter.widget-view+json": {
       "model_id": "e4a8583e8aff437b8e79c9640f6cbafa",
       "version_major": 2,
       "version_minor": 0
      },
      "text/plain": [
       "Generate report structure:   0%|          | 0/1 [00:00<?, ?it/s]"
      ]
     },
     "metadata": {},
     "output_type": "display_data"
    },
    {
     "data": {
      "application/vnd.jupyter.widget-view+json": {
       "model_id": "91ec7e62fea54a9894fb861255c12c9a",
       "version_major": 2,
       "version_minor": 0
      },
      "text/plain": [
       "Render HTML:   0%|          | 0/1 [00:00<?, ?it/s]"
      ]
     },
     "metadata": {},
     "output_type": "display_data"
    },
    {
     "data": {
      "application/vnd.jupyter.widget-view+json": {
       "model_id": "3bba19467ce24bffa5845031134c9d35",
       "version_major": 2,
       "version_minor": 0
      },
      "text/plain": [
       "Export report to file:   0%|          | 0/1 [00:00<?, ?it/s]"
      ]
     },
     "metadata": {},
     "output_type": "display_data"
    }
   ],
   "source": [
    "profile= pp.ProfileReport(df)\n",
    "profile.to_file('output.html')\n"
   ]
  }
 ],
 "metadata": {
  "kernelspec": {
   "display_name": "Python 3.9.12 ('base')",
   "language": "python",
   "name": "python3"
  },
  "language_info": {
   "codemirror_mode": {
    "name": "ipython",
    "version": 3
   },
   "file_extension": ".py",
   "mimetype": "text/x-python",
   "name": "python",
   "nbconvert_exporter": "python",
   "pygments_lexer": "ipython3",
   "version": "3.9.12"
  },
  "orig_nbformat": 4,
  "vscode": {
   "interpreter": {
    "hash": "fc9c408517bdc0f34c4d983e8761969fe884e17fdd05ce7c89d4d6e9d94efadf"
   }
  }
 },
 "nbformat": 4,
 "nbformat_minor": 2
}
