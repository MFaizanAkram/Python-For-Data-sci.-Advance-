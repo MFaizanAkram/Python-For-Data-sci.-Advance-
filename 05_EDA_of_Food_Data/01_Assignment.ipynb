{
 "cells": [
  {
   "cell_type": "markdown",
   "metadata": {},
   "source": [
    "---------"
   ]
  },
  {
   "cell_type": "markdown",
   "metadata": {},
   "source": [
    "# Exploratory Data Analysis:"
   ]
  },
  {
   "cell_type": "markdown",
   "metadata": {},
   "source": [
    "- Importing labraries:"
   ]
  },
  {
   "cell_type": "code",
   "execution_count": 2,
   "metadata": {},
   "outputs": [],
   "source": [
    "import pandas as pd\n",
    "import numpy as np\n",
    "import matplotlib.pyplot as plt\n",
    "import seaborn as sns"
   ]
  },
  {
   "cell_type": "markdown",
   "metadata": {},
   "source": [
    "- Loading Data-set:"
   ]
  },
  {
   "cell_type": "code",
   "execution_count": 3,
   "metadata": {},
   "outputs": [
    {
     "name": "stderr",
     "output_type": "stream",
     "text": [
      "C:\\Users\\thech\\AppData\\Local\\Temp\\ipykernel_15336\\2664869814.py:1: DtypeWarning: Columns (0,3,5,19,20,24,25,26,27,28,36,37,38,39,48) have mixed types. Specify dtype option on import or set low_memory=False.\n",
      "  food = pd.read_csv('food.tsv', sep='\\t')\n"
     ]
    }
   ],
   "source": [
    "food = pd.read_csv('food.tsv', sep='\\t')\n",
    "food = food.sample(frac=0.1)"
   ]
  },
  {
   "cell_type": "markdown",
   "metadata": {},
   "source": [
    "-------------------"
   ]
  },
  {
   "cell_type": "markdown",
   "metadata": {},
   "source": [
    "## EDA and its important steps:"
   ]
  },
  {
   "cell_type": "markdown",
   "metadata": {},
   "source": [
    "--------------------------------"
   ]
  },
  {
   "cell_type": "markdown",
   "metadata": {},
   "source": [
    "### 1:- Data shape:"
   ]
  },
  {
   "cell_type": "code",
   "execution_count": 4,
   "metadata": {},
   "outputs": [
    {
     "name": "stdout",
     "output_type": "stream",
     "text": [
      "(35603, 163)\n",
      "The number of instances: 35603\n",
      "The number of series: 163\n"
     ]
    }
   ],
   "source": [
    "print(food.shape)\n",
    "instances, series = food.shape\n",
    "print('The number of instances:', instances)\n",
    "print('The number of series:', series)\n"
   ]
  },
  {
   "cell_type": "markdown",
   "metadata": {},
   "source": [
    "------------------------\n"
   ]
  },
  {
   "cell_type": "markdown",
   "metadata": {},
   "source": [
    "### 2:- Data-Structure:"
   ]
  },
  {
   "cell_type": "code",
   "execution_count": 5,
   "metadata": {},
   "outputs": [
    {
     "name": "stdout",
     "output_type": "stream",
     "text": [
      "<class 'pandas.core.frame.DataFrame'>\n",
      "Int64Index: 35603 entries, 70770 to 137241\n",
      "Columns: 163 entries, code to water-hardness_100g\n",
      "dtypes: float64(107), object(56)\n",
      "memory usage: 44.5+ MB\n"
     ]
    }
   ],
   "source": [
    "food.info()"
   ]
  },
  {
   "cell_type": "code",
   "execution_count": 6,
   "metadata": {},
   "outputs": [
    {
     "data": {
      "text/plain": [
       "163"
      ]
     },
     "execution_count": 6,
     "metadata": {},
     "output_type": "execute_result"
    }
   ],
   "source": [
    "food.shape[1]"
   ]
  },
  {
   "cell_type": "code",
   "execution_count": 7,
   "metadata": {},
   "outputs": [
    {
     "data": {
      "text/plain": [
       "['code',\n",
       " 'url',\n",
       " 'creator',\n",
       " 'created_t',\n",
       " 'created_datetime',\n",
       " 'last_modified_t',\n",
       " 'last_modified_datetime',\n",
       " 'product_name',\n",
       " 'generic_name',\n",
       " 'quantity',\n",
       " 'packaging',\n",
       " 'packaging_tags',\n",
       " 'brands',\n",
       " 'brands_tags',\n",
       " 'categories',\n",
       " 'categories_tags',\n",
       " 'categories_en',\n",
       " 'origins',\n",
       " 'origins_tags',\n",
       " 'manufacturing_places',\n",
       " 'manufacturing_places_tags',\n",
       " 'labels',\n",
       " 'labels_tags',\n",
       " 'labels_en',\n",
       " 'emb_codes',\n",
       " 'emb_codes_tags',\n",
       " 'first_packaging_code_geo',\n",
       " 'cities',\n",
       " 'cities_tags',\n",
       " 'purchase_places',\n",
       " 'stores',\n",
       " 'countries',\n",
       " 'countries_tags',\n",
       " 'countries_en',\n",
       " 'ingredients_text',\n",
       " 'allergens',\n",
       " 'allergens_en',\n",
       " 'traces',\n",
       " 'traces_tags',\n",
       " 'traces_en',\n",
       " 'serving_size',\n",
       " 'no_nutriments',\n",
       " 'additives_n',\n",
       " 'additives',\n",
       " 'additives_tags',\n",
       " 'additives_en',\n",
       " 'ingredients_from_palm_oil_n',\n",
       " 'ingredients_from_palm_oil',\n",
       " 'ingredients_from_palm_oil_tags',\n",
       " 'ingredients_that_may_be_from_palm_oil_n',\n",
       " 'ingredients_that_may_be_from_palm_oil',\n",
       " 'ingredients_that_may_be_from_palm_oil_tags',\n",
       " 'nutrition_grade_uk',\n",
       " 'nutrition_grade_fr',\n",
       " 'pnns_groups_1',\n",
       " 'pnns_groups_2',\n",
       " 'states',\n",
       " 'states_tags',\n",
       " 'states_en',\n",
       " 'main_category',\n",
       " 'main_category_en',\n",
       " 'image_url',\n",
       " 'image_small_url',\n",
       " 'energy_100g',\n",
       " 'energy-from-fat_100g',\n",
       " 'fat_100g',\n",
       " 'saturated-fat_100g',\n",
       " '-butyric-acid_100g',\n",
       " '-caproic-acid_100g',\n",
       " '-caprylic-acid_100g',\n",
       " '-capric-acid_100g',\n",
       " '-lauric-acid_100g',\n",
       " '-myristic-acid_100g',\n",
       " '-palmitic-acid_100g',\n",
       " '-stearic-acid_100g',\n",
       " '-arachidic-acid_100g',\n",
       " '-behenic-acid_100g',\n",
       " '-lignoceric-acid_100g',\n",
       " '-cerotic-acid_100g',\n",
       " '-montanic-acid_100g',\n",
       " '-melissic-acid_100g',\n",
       " 'monounsaturated-fat_100g',\n",
       " 'polyunsaturated-fat_100g',\n",
       " 'omega-3-fat_100g',\n",
       " '-alpha-linolenic-acid_100g',\n",
       " '-eicosapentaenoic-acid_100g',\n",
       " '-docosahexaenoic-acid_100g',\n",
       " 'omega-6-fat_100g',\n",
       " '-linoleic-acid_100g',\n",
       " '-arachidonic-acid_100g',\n",
       " '-gamma-linolenic-acid_100g',\n",
       " '-dihomo-gamma-linolenic-acid_100g',\n",
       " 'omega-9-fat_100g',\n",
       " '-oleic-acid_100g',\n",
       " '-elaidic-acid_100g',\n",
       " '-gondoic-acid_100g',\n",
       " '-mead-acid_100g',\n",
       " '-erucic-acid_100g',\n",
       " '-nervonic-acid_100g',\n",
       " 'trans-fat_100g',\n",
       " 'cholesterol_100g',\n",
       " 'carbohydrates_100g',\n",
       " 'sugars_100g',\n",
       " '-sucrose_100g',\n",
       " '-glucose_100g',\n",
       " '-fructose_100g',\n",
       " '-lactose_100g',\n",
       " '-maltose_100g',\n",
       " '-maltodextrins_100g',\n",
       " 'starch_100g',\n",
       " 'polyols_100g',\n",
       " 'fiber_100g',\n",
       " 'proteins_100g',\n",
       " 'casein_100g',\n",
       " 'serum-proteins_100g',\n",
       " 'nucleotides_100g',\n",
       " 'salt_100g',\n",
       " 'sodium_100g',\n",
       " 'alcohol_100g',\n",
       " 'vitamin-a_100g',\n",
       " 'beta-carotene_100g',\n",
       " 'vitamin-d_100g',\n",
       " 'vitamin-e_100g',\n",
       " 'vitamin-k_100g',\n",
       " 'vitamin-c_100g',\n",
       " 'vitamin-b1_100g',\n",
       " 'vitamin-b2_100g',\n",
       " 'vitamin-pp_100g',\n",
       " 'vitamin-b6_100g',\n",
       " 'vitamin-b9_100g',\n",
       " 'folates_100g',\n",
       " 'vitamin-b12_100g',\n",
       " 'biotin_100g',\n",
       " 'pantothenic-acid_100g',\n",
       " 'silica_100g',\n",
       " 'bicarbonate_100g',\n",
       " 'potassium_100g',\n",
       " 'chloride_100g',\n",
       " 'calcium_100g',\n",
       " 'phosphorus_100g',\n",
       " 'iron_100g',\n",
       " 'magnesium_100g',\n",
       " 'zinc_100g',\n",
       " 'copper_100g',\n",
       " 'manganese_100g',\n",
       " 'fluoride_100g',\n",
       " 'selenium_100g',\n",
       " 'chromium_100g',\n",
       " 'molybdenum_100g',\n",
       " 'iodine_100g',\n",
       " 'caffeine_100g',\n",
       " 'taurine_100g',\n",
       " 'ph_100g',\n",
       " 'fruits-vegetables-nuts_100g',\n",
       " 'fruits-vegetables-nuts-estimate_100g',\n",
       " 'collagen-meat-protein-ratio_100g',\n",
       " 'cocoa_100g',\n",
       " 'chlorophyl_100g',\n",
       " 'carbon-footprint_100g',\n",
       " 'nutrition-score-fr_100g',\n",
       " 'nutrition-score-uk_100g',\n",
       " 'glycemic-index_100g',\n",
       " 'water-hardness_100g']"
      ]
     },
     "execution_count": 7,
     "metadata": {},
     "output_type": "execute_result"
    }
   ],
   "source": [
    "food.columns.to_list()"
   ]
  },
  {
   "cell_type": "markdown",
   "metadata": {},
   "source": [
    "-------------------------"
   ]
  },
  {
   "cell_type": "markdown",
   "metadata": {},
   "source": [
    "### 3:- Finding missing values:"
   ]
  },
  {
   "cell_type": "code",
   "execution_count": 8,
   "metadata": {},
   "outputs": [
    {
     "data": {
      "text/plain": [
       "code                           4\n",
       "url                            4\n",
       "creator                        0\n",
       "created_t                      0\n",
       "created_datetime               3\n",
       "                           ...  \n",
       "carbon-footprint_100g      35570\n",
       "nutrition-score-fr_100g    10102\n",
       "nutrition-score-uk_100g    10102\n",
       "glycemic-index_100g        35603\n",
       "water-hardness_100g        35603\n",
       "Length: 163, dtype: int64"
      ]
     },
     "execution_count": 8,
     "metadata": {},
     "output_type": "execute_result"
    }
   ],
   "source": [
    "food.isnull().sum()"
   ]
  },
  {
   "cell_type": "markdown",
   "metadata": {},
   "source": [
    "- Percentage calculation of missing value:"
   ]
  },
  {
   "cell_type": "code",
   "execution_count": 9,
   "metadata": {},
   "outputs": [
    {
     "data": {
      "text/plain": [
       "water-hardness_100g                      100.000000\n",
       "molybdenum_100g                          100.000000\n",
       "casein_100g                              100.000000\n",
       "ingredients_from_palm_oil                100.000000\n",
       "ingredients_that_may_be_from_palm_oil    100.000000\n",
       "                                            ...    \n",
       "created_datetime                           0.008426\n",
       "last_modified_datetime                     0.000000\n",
       "last_modified_t                            0.000000\n",
       "created_t                                  0.000000\n",
       "creator                                    0.000000\n",
       "Length: 163, dtype: float64"
      ]
     },
     "execution_count": 9,
     "metadata": {},
     "output_type": "execute_result"
    }
   ],
   "source": [
    "percentage_of_nan = food.isnull().sum().sort_values(ascending=False)/food.shape[0]*100\n",
    "percentage_of_nan "
   ]
  },
  {
   "cell_type": "markdown",
   "metadata": {},
   "source": [
    "- Checking how many features have 100% missing values"
   ]
  },
  {
   "cell_type": "code",
   "execution_count": 10,
   "metadata": {},
   "outputs": [
    {
     "data": {
      "text/plain": [
       "Index(['water-hardness_100g', 'molybdenum_100g', 'casein_100g',\n",
       "       'ingredients_from_palm_oil', 'ingredients_that_may_be_from_palm_oil',\n",
       "       'nutrition_grade_uk', '-maltose_100g', '-nervonic-acid_100g',\n",
       "       '-erucic-acid_100g', '-mead-acid_100g',\n",
       "       ...\n",
       "       'pnns_groups_1', 'pnns_groups_2', 'vitamin-a_100g', 'iron_100g',\n",
       "       'vitamin-c_100g', 'calcium_100g', 'trans-fat_100g', 'cholesterol_100g',\n",
       "       'additives_tags', 'additives_en'],\n",
       "      dtype='object', length=129)"
      ]
     },
     "execution_count": 10,
     "metadata": {},
     "output_type": "execute_result"
    }
   ],
   "source": [
    "futile_features=percentage_of_nan[percentage_of_nan>=40].index\n",
    "futile_features"
   ]
  },
  {
   "cell_type": "markdown",
   "metadata": {},
   "source": [
    "- Dropping futile features"
   ]
  },
  {
   "cell_type": "code",
   "execution_count": 11,
   "metadata": {},
   "outputs": [],
   "source": [
    "food.drop(futile_features, axis=1, inplace=True)\n"
   ]
  },
  {
   "cell_type": "markdown",
   "metadata": {},
   "source": [
    "- Checking features with no missing values"
   ]
  },
  {
   "cell_type": "code",
   "execution_count": 12,
   "metadata": {},
   "outputs": [
    {
     "data": {
      "text/plain": [
       "Index(['last_modified_datetime', 'last_modified_t', 'created_t', 'creator'], dtype='object')"
      ]
     },
     "execution_count": 12,
     "metadata": {},
     "output_type": "execute_result"
    }
   ],
   "source": [
    "features_with_no_nan=percentage_of_nan[percentage_of_nan==0].index\n",
    "features_with_no_nan"
   ]
  },
  {
   "cell_type": "markdown",
   "metadata": {},
   "source": [
    "- Splitting dataset into three categories based on NaN values"
   ]
  },
  {
   "cell_type": "code",
   "execution_count": null,
   "metadata": {},
   "outputs": [],
   "source": [
    "low_nan_features=percentage_of_nan[percentage_of_nan<=15].index\n",
    "middle_nan_features=percentage_of_nan[(percentage_of_nan>15) & (percentage_of_nan<40)].index\n",
    "high_nan_features=percentage_of_nan[percentage_of_nan>40].index\n"
   ]
  },
  {
   "cell_type": "markdown",
   "metadata": {},
   "source": [
    "--------------"
   ]
  },
  {
   "cell_type": "markdown",
   "metadata": {},
   "source": [
    "### 4:- Type casting"
   ]
  },
  {
   "cell_type": "code",
   "execution_count": 24,
   "metadata": {},
   "outputs": [
    {
     "data": {
      "text/plain": [
       "dtype('O')"
      ]
     },
     "execution_count": 24,
     "metadata": {},
     "output_type": "execute_result"
    }
   ],
   "source": [
    "food['last_modified_datetime'].dtype"
   ]
  },
  {
   "cell_type": "code",
   "execution_count": 26,
   "metadata": {},
   "outputs": [],
   "source": [
    "food['last_modified_datetime']=food['last_modified_datetime'].astype(str)"
   ]
  },
  {
   "cell_type": "markdown",
   "metadata": {},
   "source": [
    "-------------"
   ]
  },
  {
   "cell_type": "markdown",
   "metadata": {},
   "source": [
    "### 5:- Splitting categorical variable into numerical"
   ]
  },
  {
   "cell_type": "code",
   "execution_count": 28,
   "metadata": {},
   "outputs": [
    {
     "data": {
      "text/html": [
       "<div>\n",
       "<style scoped>\n",
       "    .dataframe tbody tr th:only-of-type {\n",
       "        vertical-align: middle;\n",
       "    }\n",
       "\n",
       "    .dataframe tbody tr th {\n",
       "        vertical-align: top;\n",
       "    }\n",
       "\n",
       "    .dataframe thead th {\n",
       "        text-align: right;\n",
       "    }\n",
       "</style>\n",
       "<table border=\"1\" class=\"dataframe\">\n",
       "  <thead>\n",
       "    <tr style=\"text-align: right;\">\n",
       "      <th></th>\n",
       "      <th>0</th>\n",
       "      <th>1</th>\n",
       "    </tr>\n",
       "  </thead>\n",
       "  <tbody>\n",
       "    <tr>\n",
       "      <th>70770</th>\n",
       "      <td>2017-03-09</td>\n",
       "      <td>12:39:10Z</td>\n",
       "    </tr>\n",
       "    <tr>\n",
       "      <th>56435</th>\n",
       "      <td>2017-03-09</td>\n",
       "      <td>14:48:00Z</td>\n",
       "    </tr>\n",
       "    <tr>\n",
       "      <th>45961</th>\n",
       "      <td>2017-03-09</td>\n",
       "      <td>14:44:11Z</td>\n",
       "    </tr>\n",
       "    <tr>\n",
       "      <th>167185</th>\n",
       "      <td>2017-03-09</td>\n",
       "      <td>13:17:47Z</td>\n",
       "    </tr>\n",
       "    <tr>\n",
       "      <th>20090</th>\n",
       "      <td>2017-03-09</td>\n",
       "      <td>12:02:40Z</td>\n",
       "    </tr>\n",
       "    <tr>\n",
       "      <th>...</th>\n",
       "      <td>...</td>\n",
       "      <td>...</td>\n",
       "    </tr>\n",
       "    <tr>\n",
       "      <th>172340</th>\n",
       "      <td>2017-03-09</td>\n",
       "      <td>20:41:51Z</td>\n",
       "    </tr>\n",
       "    <tr>\n",
       "      <th>118750</th>\n",
       "      <td>2017-03-10</td>\n",
       "      <td>09:15:24Z</td>\n",
       "    </tr>\n",
       "    <tr>\n",
       "      <th>70185</th>\n",
       "      <td>2017-03-09</td>\n",
       "      <td>12:48:24Z</td>\n",
       "    </tr>\n",
       "    <tr>\n",
       "      <th>86693</th>\n",
       "      <td>2017-03-10</td>\n",
       "      <td>09:07:52Z</td>\n",
       "    </tr>\n",
       "    <tr>\n",
       "      <th>137241</th>\n",
       "      <td>2017-03-09</td>\n",
       "      <td>09:55:41Z</td>\n",
       "    </tr>\n",
       "  </tbody>\n",
       "</table>\n",
       "<p>15752 rows × 2 columns</p>\n",
       "</div>"
      ],
      "text/plain": [
       "                 0          1\n",
       "70770   2017-03-09  12:39:10Z\n",
       "56435   2017-03-09  14:48:00Z\n",
       "45961   2017-03-09  14:44:11Z\n",
       "167185  2017-03-09  13:17:47Z\n",
       "20090   2017-03-09  12:02:40Z\n",
       "...            ...        ...\n",
       "172340  2017-03-09  20:41:51Z\n",
       "118750  2017-03-10  09:15:24Z\n",
       "70185   2017-03-09  12:48:24Z\n",
       "86693   2017-03-10  09:07:52Z\n",
       "137241  2017-03-09  09:55:41Z\n",
       "\n",
       "[15752 rows x 2 columns]"
      ]
     },
     "execution_count": 28,
     "metadata": {},
     "output_type": "execute_result"
    }
   ],
   "source": [
    "food.last_modified_datetime.str.split('T',expand=True)"
   ]
  },
  {
   "cell_type": "markdown",
   "metadata": {},
   "source": [
    "- Adding into new columns"
   ]
  },
  {
   "cell_type": "code",
   "execution_count": 31,
   "metadata": {},
   "outputs": [],
   "source": [
    "food['last_modified_date']=food['last_modified_datetime'].str.split('T',expand=True)[0]\n",
    "food['last_modified_time']=food['last_modified_datetime'].str.split('T',expand=True)[1]"
   ]
  },
  {
   "cell_type": "markdown",
   "metadata": {},
   "source": [
    "---------------"
   ]
  },
  {
   "cell_type": "markdown",
   "metadata": {},
   "source": [
    "## 6:- Summary of the data"
   ]
  },
  {
   "cell_type": "code",
   "execution_count": 34,
   "metadata": {},
   "outputs": [
    {
     "data": {
      "text/html": [
       "<div>\n",
       "<style scoped>\n",
       "    .dataframe tbody tr th:only-of-type {\n",
       "        vertical-align: middle;\n",
       "    }\n",
       "\n",
       "    .dataframe tbody tr th {\n",
       "        vertical-align: top;\n",
       "    }\n",
       "\n",
       "    .dataframe thead th {\n",
       "        text-align: right;\n",
       "    }\n",
       "</style>\n",
       "<table border=\"1\" class=\"dataframe\">\n",
       "  <thead>\n",
       "    <tr style=\"text-align: right;\">\n",
       "      <th></th>\n",
       "      <th>additives_n</th>\n",
       "      <th>ingredients_from_palm_oil_n</th>\n",
       "      <th>ingredients_that_may_be_from_palm_oil_n</th>\n",
       "      <th>energy_100g</th>\n",
       "      <th>fat_100g</th>\n",
       "      <th>saturated-fat_100g</th>\n",
       "      <th>carbohydrates_100g</th>\n",
       "      <th>sugars_100g</th>\n",
       "      <th>fiber_100g</th>\n",
       "      <th>proteins_100g</th>\n",
       "      <th>salt_100g</th>\n",
       "      <th>sodium_100g</th>\n",
       "      <th>nutrition-score-fr_100g</th>\n",
       "      <th>nutrition-score-uk_100g</th>\n",
       "    </tr>\n",
       "  </thead>\n",
       "  <tbody>\n",
       "    <tr>\n",
       "      <th>count</th>\n",
       "      <td>15752.000000</td>\n",
       "      <td>15752.000000</td>\n",
       "      <td>15752.000000</td>\n",
       "      <td>15752.00000</td>\n",
       "      <td>15752.000000</td>\n",
       "      <td>15752.000000</td>\n",
       "      <td>15752.000000</td>\n",
       "      <td>15752.000000</td>\n",
       "      <td>15752.000000</td>\n",
       "      <td>15752.00000</td>\n",
       "      <td>15752.000000</td>\n",
       "      <td>15752.000000</td>\n",
       "      <td>15752.000000</td>\n",
       "      <td>15752.000000</td>\n",
       "    </tr>\n",
       "    <tr>\n",
       "      <th>mean</th>\n",
       "      <td>2.051486</td>\n",
       "      <td>0.015236</td>\n",
       "      <td>0.047740</td>\n",
       "      <td>1197.51131</td>\n",
       "      <td>13.065907</td>\n",
       "      <td>4.650253</td>\n",
       "      <td>35.266302</td>\n",
       "      <td>15.235423</td>\n",
       "      <td>2.886567</td>\n",
       "      <td>7.85665</td>\n",
       "      <td>1.430011</td>\n",
       "      <td>0.562991</td>\n",
       "      <td>9.026536</td>\n",
       "      <td>8.960830</td>\n",
       "    </tr>\n",
       "    <tr>\n",
       "      <th>std</th>\n",
       "      <td>2.636572</td>\n",
       "      <td>0.125566</td>\n",
       "      <td>0.239317</td>\n",
       "      <td>747.62310</td>\n",
       "      <td>15.295627</td>\n",
       "      <td>6.835792</td>\n",
       "      <td>28.261692</td>\n",
       "      <td>19.623968</td>\n",
       "      <td>4.468135</td>\n",
       "      <td>8.00359</td>\n",
       "      <td>16.475965</td>\n",
       "      <td>6.486584</td>\n",
       "      <td>9.028060</td>\n",
       "      <td>9.068566</td>\n",
       "    </tr>\n",
       "    <tr>\n",
       "      <th>min</th>\n",
       "      <td>0.000000</td>\n",
       "      <td>0.000000</td>\n",
       "      <td>0.000000</td>\n",
       "      <td>0.00000</td>\n",
       "      <td>0.000000</td>\n",
       "      <td>0.000000</td>\n",
       "      <td>0.000000</td>\n",
       "      <td>0.000000</td>\n",
       "      <td>0.000000</td>\n",
       "      <td>0.00000</td>\n",
       "      <td>0.000000</td>\n",
       "      <td>0.000000</td>\n",
       "      <td>-15.000000</td>\n",
       "      <td>-15.000000</td>\n",
       "    </tr>\n",
       "    <tr>\n",
       "      <th>25%</th>\n",
       "      <td>0.000000</td>\n",
       "      <td>0.000000</td>\n",
       "      <td>0.000000</td>\n",
       "      <td>473.00000</td>\n",
       "      <td>0.830000</td>\n",
       "      <td>0.000000</td>\n",
       "      <td>8.807500</td>\n",
       "      <td>1.600000</td>\n",
       "      <td>0.000000</td>\n",
       "      <td>2.35000</td>\n",
       "      <td>0.127000</td>\n",
       "      <td>0.050000</td>\n",
       "      <td>1.000000</td>\n",
       "      <td>1.000000</td>\n",
       "    </tr>\n",
       "    <tr>\n",
       "      <th>50%</th>\n",
       "      <td>1.000000</td>\n",
       "      <td>0.000000</td>\n",
       "      <td>0.000000</td>\n",
       "      <td>1255.00000</td>\n",
       "      <td>7.140000</td>\n",
       "      <td>1.760000</td>\n",
       "      <td>28.120000</td>\n",
       "      <td>5.500000</td>\n",
       "      <td>1.600000</td>\n",
       "      <td>5.80000</td>\n",
       "      <td>0.718820</td>\n",
       "      <td>0.283000</td>\n",
       "      <td>9.000000</td>\n",
       "      <td>9.000000</td>\n",
       "    </tr>\n",
       "    <tr>\n",
       "      <th>75%</th>\n",
       "      <td>3.000000</td>\n",
       "      <td>0.000000</td>\n",
       "      <td>0.000000</td>\n",
       "      <td>1757.00000</td>\n",
       "      <td>21.430000</td>\n",
       "      <td>6.920000</td>\n",
       "      <td>60.710000</td>\n",
       "      <td>23.955000</td>\n",
       "      <td>3.600000</td>\n",
       "      <td>10.71000</td>\n",
       "      <td>1.364615</td>\n",
       "      <td>0.537250</td>\n",
       "      <td>16.000000</td>\n",
       "      <td>16.000000</td>\n",
       "    </tr>\n",
       "    <tr>\n",
       "      <th>max</th>\n",
       "      <td>30.000000</td>\n",
       "      <td>2.000000</td>\n",
       "      <td>3.000000</td>\n",
       "      <td>4707.00000</td>\n",
       "      <td>100.000000</td>\n",
       "      <td>88.000000</td>\n",
       "      <td>100.000000</td>\n",
       "      <td>100.000000</td>\n",
       "      <td>60.000000</td>\n",
       "      <td>82.00000</td>\n",
       "      <td>1799.165820</td>\n",
       "      <td>708.333000</td>\n",
       "      <td>40.000000</td>\n",
       "      <td>40.000000</td>\n",
       "    </tr>\n",
       "  </tbody>\n",
       "</table>\n",
       "</div>"
      ],
      "text/plain": [
       "        additives_n  ingredients_from_palm_oil_n  \\\n",
       "count  15752.000000                 15752.000000   \n",
       "mean       2.051486                     0.015236   \n",
       "std        2.636572                     0.125566   \n",
       "min        0.000000                     0.000000   \n",
       "25%        0.000000                     0.000000   \n",
       "50%        1.000000                     0.000000   \n",
       "75%        3.000000                     0.000000   \n",
       "max       30.000000                     2.000000   \n",
       "\n",
       "       ingredients_that_may_be_from_palm_oil_n  energy_100g      fat_100g  \\\n",
       "count                             15752.000000  15752.00000  15752.000000   \n",
       "mean                                  0.047740   1197.51131     13.065907   \n",
       "std                                   0.239317    747.62310     15.295627   \n",
       "min                                   0.000000      0.00000      0.000000   \n",
       "25%                                   0.000000    473.00000      0.830000   \n",
       "50%                                   0.000000   1255.00000      7.140000   \n",
       "75%                                   0.000000   1757.00000     21.430000   \n",
       "max                                   3.000000   4707.00000    100.000000   \n",
       "\n",
       "       saturated-fat_100g  carbohydrates_100g   sugars_100g    fiber_100g  \\\n",
       "count        15752.000000        15752.000000  15752.000000  15752.000000   \n",
       "mean             4.650253           35.266302     15.235423      2.886567   \n",
       "std              6.835792           28.261692     19.623968      4.468135   \n",
       "min              0.000000            0.000000      0.000000      0.000000   \n",
       "25%              0.000000            8.807500      1.600000      0.000000   \n",
       "50%              1.760000           28.120000      5.500000      1.600000   \n",
       "75%              6.920000           60.710000     23.955000      3.600000   \n",
       "max             88.000000          100.000000    100.000000     60.000000   \n",
       "\n",
       "       proteins_100g     salt_100g   sodium_100g  nutrition-score-fr_100g  \\\n",
       "count    15752.00000  15752.000000  15752.000000             15752.000000   \n",
       "mean         7.85665      1.430011      0.562991                 9.026536   \n",
       "std          8.00359     16.475965      6.486584                 9.028060   \n",
       "min          0.00000      0.000000      0.000000               -15.000000   \n",
       "25%          2.35000      0.127000      0.050000                 1.000000   \n",
       "50%          5.80000      0.718820      0.283000                 9.000000   \n",
       "75%         10.71000      1.364615      0.537250                16.000000   \n",
       "max         82.00000   1799.165820    708.333000                40.000000   \n",
       "\n",
       "       nutrition-score-uk_100g  \n",
       "count             15752.000000  \n",
       "mean                  8.960830  \n",
       "std                   9.068566  \n",
       "min                 -15.000000  \n",
       "25%                   1.000000  \n",
       "50%                   9.000000  \n",
       "75%                  16.000000  \n",
       "max                  40.000000  "
      ]
     },
     "execution_count": 34,
     "metadata": {},
     "output_type": "execute_result"
    }
   ],
   "source": [
    "food.describe()"
   ]
  },
  {
   "cell_type": "markdown",
   "metadata": {},
   "source": [
    "-----------------"
   ]
  },
  {
   "cell_type": "markdown",
   "metadata": {},
   "source": [
    "## 7:- Value counts"
   ]
  },
  {
   "cell_type": "code",
   "execution_count": 35,
   "metadata": {},
   "outputs": [
    {
     "data": {
      "text/plain": [
       "0.00     837\n",
       "3.57     338\n",
       "50.00    249\n",
       "6.67     223\n",
       "75.00    178\n",
       "        ... \n",
       "73.44      1\n",
       "6.75       1\n",
       "51.89      1\n",
       "15.46      1\n",
       "91.00      1\n",
       "Name: carbohydrates_100g, Length: 2526, dtype: int64"
      ]
     },
     "execution_count": 35,
     "metadata": {},
     "output_type": "execute_result"
    }
   ],
   "source": [
    "food['carbohydrates_100g'].value_counts()"
   ]
  },
  {
   "cell_type": "markdown",
   "metadata": {},
   "source": [
    "--------------"
   ]
  },
  {
   "cell_type": "markdown",
   "metadata": {},
   "source": [
    "## 8:- Remove duplicates"
   ]
  },
  {
   "cell_type": "code",
   "execution_count": 37,
   "metadata": {},
   "outputs": [],
   "source": [
    "food.drop_duplicates(inplace=True)"
   ]
  },
  {
   "cell_type": "markdown",
   "metadata": {},
   "source": [
    "----------------"
   ]
  },
  {
   "cell_type": "markdown",
   "metadata": {},
   "source": [
    "## 9:- Checking data normalization"
   ]
  },
  {
   "cell_type": "code",
   "execution_count": 38,
   "metadata": {},
   "outputs": [
    {
     "data": {
      "text/plain": [
       "<AxesSubplot:xlabel='carbohydrates_100g', ylabel='Count'>"
      ]
     },
     "execution_count": 38,
     "metadata": {},
     "output_type": "execute_result"
    },
    {
     "data": {
      "image/png": "[encoded data removed]",
      "text/plain": [
       "<Figure size 432x288 with 1 Axes>"
      ]
     },
     "metadata": {
      "needs_background": "light"
     },
     "output_type": "display_data"
    }
   ],
   "source": [
    "sns.histplot(food['carbohydrates_100g'])"
   ]
  },
  {
   "cell_type": "markdown",
   "metadata": {},
   "source": [
    "- skew means how much the data is skewed to the left or right\n",
    "- kurtosis is how much the data is skewed to the top or bottom"
   ]
  },
  {
   "cell_type": "code",
   "execution_count": 39,
   "metadata": {},
   "outputs": [
    {
     "data": {
      "text/plain": [
       "skew        0.380110\n",
       "kurtosis   -1.217243\n",
       "Name: carbohydrates_100g, dtype: float64"
      ]
     },
     "execution_count": 39,
     "metadata": {},
     "output_type": "execute_result"
    }
   ],
   "source": [
    "food['carbohydrates_100g'].agg(['skew', 'kurtosis']).transpose()\n",
    "                                                                  "
   ]
  },
  {
   "cell_type": "markdown",
   "metadata": {},
   "source": [
    "--------------"
   ]
  },
  {
   "cell_type": "markdown",
   "metadata": {},
   "source": [
    "## 10:- Correlation Analysis"
   ]
  },
  {
   "cell_type": "code",
   "execution_count": 41,
   "metadata": {},
   "outputs": [
    {
     "data": {
      "text/html": [
       "<div>\n",
       "<style scoped>\n",
       "    .dataframe tbody tr th:only-of-type {\n",
       "        vertical-align: middle;\n",
       "    }\n",
       "\n",
       "    .dataframe tbody tr th {\n",
       "        vertical-align: top;\n",
       "    }\n",
       "\n",
       "    .dataframe thead th {\n",
       "        text-align: right;\n",
       "    }\n",
       "</style>\n",
       "<table border=\"1\" class=\"dataframe\">\n",
       "  <thead>\n",
       "    <tr style=\"text-align: right;\">\n",
       "      <th></th>\n",
       "      <th>additives_n</th>\n",
       "      <th>ingredients_from_palm_oil_n</th>\n",
       "      <th>ingredients_that_may_be_from_palm_oil_n</th>\n",
       "      <th>energy_100g</th>\n",
       "      <th>fat_100g</th>\n",
       "      <th>saturated-fat_100g</th>\n",
       "      <th>carbohydrates_100g</th>\n",
       "      <th>sugars_100g</th>\n",
       "      <th>fiber_100g</th>\n",
       "      <th>proteins_100g</th>\n",
       "      <th>salt_100g</th>\n",
       "      <th>sodium_100g</th>\n",
       "      <th>nutrition-score-fr_100g</th>\n",
       "      <th>nutrition-score-uk_100g</th>\n",
       "    </tr>\n",
       "  </thead>\n",
       "  <tbody>\n",
       "    <tr>\n",
       "      <th>additives_n</th>\n",
       "      <td>1.000000</td>\n",
       "      <td>0.087379</td>\n",
       "      <td>0.287295</td>\n",
       "      <td>0.012770</td>\n",
       "      <td>-0.104433</td>\n",
       "      <td>-0.023549</td>\n",
       "      <td>0.166747</td>\n",
       "      <td>0.168458</td>\n",
       "      <td>-0.160896</td>\n",
       "      <td>-0.123339</td>\n",
       "      <td>-0.005680</td>\n",
       "      <td>-0.005679</td>\n",
       "      <td>0.168017</td>\n",
       "      <td>0.167193</td>\n",
       "    </tr>\n",
       "    <tr>\n",
       "      <th>ingredients_from_palm_oil_n</th>\n",
       "      <td>0.087379</td>\n",
       "      <td>1.000000</td>\n",
       "      <td>0.174391</td>\n",
       "      <td>0.072629</td>\n",
       "      <td>0.032318</td>\n",
       "      <td>0.061962</td>\n",
       "      <td>0.071044</td>\n",
       "      <td>0.045020</td>\n",
       "      <td>0.012364</td>\n",
       "      <td>-0.016466</td>\n",
       "      <td>-0.003559</td>\n",
       "      <td>-0.003559</td>\n",
       "      <td>0.068025</td>\n",
       "      <td>0.069158</td>\n",
       "    </tr>\n",
       "    <tr>\n",
       "      <th>ingredients_that_may_be_from_palm_oil_n</th>\n",
       "      <td>0.287295</td>\n",
       "      <td>0.174391</td>\n",
       "      <td>1.000000</td>\n",
       "      <td>0.007421</td>\n",
       "      <td>0.001551</td>\n",
       "      <td>0.036707</td>\n",
       "      <td>0.015295</td>\n",
       "      <td>0.019113</td>\n",
       "      <td>-0.038373</td>\n",
       "      <td>-0.051180</td>\n",
       "      <td>-0.006839</td>\n",
       "      <td>-0.006838</td>\n",
       "      <td>0.048457</td>\n",
       "      <td>0.047316</td>\n",
       "    </tr>\n",
       "    <tr>\n",
       "      <th>energy_100g</th>\n",
       "      <td>0.012770</td>\n",
       "      <td>0.072629</td>\n",
       "      <td>0.007421</td>\n",
       "      <td>1.000000</td>\n",
       "      <td>0.771595</td>\n",
       "      <td>0.551729</td>\n",
       "      <td>0.564222</td>\n",
       "      <td>0.335126</td>\n",
       "      <td>0.296714</td>\n",
       "      <td>0.320354</td>\n",
       "      <td>-0.003361</td>\n",
       "      <td>-0.003360</td>\n",
       "      <td>0.632817</td>\n",
       "      <td>0.642661</td>\n",
       "    </tr>\n",
       "    <tr>\n",
       "      <th>fat_100g</th>\n",
       "      <td>-0.104433</td>\n",
       "      <td>0.032318</td>\n",
       "      <td>0.001551</td>\n",
       "      <td>0.771595</td>\n",
       "      <td>1.000000</td>\n",
       "      <td>0.696459</td>\n",
       "      <td>-0.038482</td>\n",
       "      <td>-0.008467</td>\n",
       "      <td>0.158856</td>\n",
       "      <td>0.323303</td>\n",
       "      <td>0.005188</td>\n",
       "      <td>0.005188</td>\n",
       "      <td>0.573197</td>\n",
       "      <td>0.581700</td>\n",
       "    </tr>\n",
       "    <tr>\n",
       "      <th>saturated-fat_100g</th>\n",
       "      <td>-0.023549</td>\n",
       "      <td>0.061962</td>\n",
       "      <td>0.036707</td>\n",
       "      <td>0.551729</td>\n",
       "      <td>0.696459</td>\n",
       "      <td>1.000000</td>\n",
       "      <td>-0.014497</td>\n",
       "      <td>0.147061</td>\n",
       "      <td>-0.007993</td>\n",
       "      <td>0.213414</td>\n",
       "      <td>0.002660</td>\n",
       "      <td>0.002660</td>\n",
       "      <td>0.662759</td>\n",
       "      <td>0.668462</td>\n",
       "    </tr>\n",
       "    <tr>\n",
       "      <th>carbohydrates_100g</th>\n",
       "      <td>0.166747</td>\n",
       "      <td>0.071044</td>\n",
       "      <td>0.015295</td>\n",
       "      <td>0.564222</td>\n",
       "      <td>-0.038482</td>\n",
       "      <td>-0.014497</td>\n",
       "      <td>1.000000</td>\n",
       "      <td>0.625844</td>\n",
       "      <td>0.273310</td>\n",
       "      <td>-0.129367</td>\n",
       "      <td>-0.020069</td>\n",
       "      <td>-0.020069</td>\n",
       "      <td>0.270195</td>\n",
       "      <td>0.273499</td>\n",
       "    </tr>\n",
       "    <tr>\n",
       "      <th>sugars_100g</th>\n",
       "      <td>0.168458</td>\n",
       "      <td>0.045020</td>\n",
       "      <td>0.019113</td>\n",
       "      <td>0.335126</td>\n",
       "      <td>-0.008467</td>\n",
       "      <td>0.147061</td>\n",
       "      <td>0.625844</td>\n",
       "      <td>1.000000</td>\n",
       "      <td>-0.025751</td>\n",
       "      <td>-0.272953</td>\n",
       "      <td>-0.030076</td>\n",
       "      <td>-0.030075</td>\n",
       "      <td>0.481727</td>\n",
       "      <td>0.479468</td>\n",
       "    </tr>\n",
       "    <tr>\n",
       "      <th>fiber_100g</th>\n",
       "      <td>-0.160896</td>\n",
       "      <td>0.012364</td>\n",
       "      <td>-0.038373</td>\n",
       "      <td>0.296714</td>\n",
       "      <td>0.158856</td>\n",
       "      <td>-0.007993</td>\n",
       "      <td>0.273310</td>\n",
       "      <td>-0.025751</td>\n",
       "      <td>1.000000</td>\n",
       "      <td>0.245674</td>\n",
       "      <td>-0.008667</td>\n",
       "      <td>-0.008669</td>\n",
       "      <td>-0.155800</td>\n",
       "      <td>-0.151261</td>\n",
       "    </tr>\n",
       "    <tr>\n",
       "      <th>proteins_100g</th>\n",
       "      <td>-0.123339</td>\n",
       "      <td>-0.016466</td>\n",
       "      <td>-0.051180</td>\n",
       "      <td>0.320354</td>\n",
       "      <td>0.323303</td>\n",
       "      <td>0.213414</td>\n",
       "      <td>-0.129367</td>\n",
       "      <td>-0.272953</td>\n",
       "      <td>0.245674</td>\n",
       "      <td>1.000000</td>\n",
       "      <td>0.028497</td>\n",
       "      <td>0.028496</td>\n",
       "      <td>0.122385</td>\n",
       "      <td>0.131272</td>\n",
       "    </tr>\n",
       "    <tr>\n",
       "      <th>salt_100g</th>\n",
       "      <td>-0.005680</td>\n",
       "      <td>-0.003559</td>\n",
       "      <td>-0.006839</td>\n",
       "      <td>-0.003361</td>\n",
       "      <td>0.005188</td>\n",
       "      <td>0.002660</td>\n",
       "      <td>-0.020069</td>\n",
       "      <td>-0.030076</td>\n",
       "      <td>-0.008667</td>\n",
       "      <td>0.028497</td>\n",
       "      <td>1.000000</td>\n",
       "      <td>1.000000</td>\n",
       "      <td>0.044971</td>\n",
       "      <td>0.045491</td>\n",
       "    </tr>\n",
       "    <tr>\n",
       "      <th>sodium_100g</th>\n",
       "      <td>-0.005679</td>\n",
       "      <td>-0.003559</td>\n",
       "      <td>-0.006838</td>\n",
       "      <td>-0.003360</td>\n",
       "      <td>0.005188</td>\n",
       "      <td>0.002660</td>\n",
       "      <td>-0.020069</td>\n",
       "      <td>-0.030075</td>\n",
       "      <td>-0.008669</td>\n",
       "      <td>0.028496</td>\n",
       "      <td>1.000000</td>\n",
       "      <td>1.000000</td>\n",
       "      <td>0.044971</td>\n",
       "      <td>0.045491</td>\n",
       "    </tr>\n",
       "    <tr>\n",
       "      <th>nutrition-score-fr_100g</th>\n",
       "      <td>0.168017</td>\n",
       "      <td>0.068025</td>\n",
       "      <td>0.048457</td>\n",
       "      <td>0.632817</td>\n",
       "      <td>0.573197</td>\n",
       "      <td>0.662759</td>\n",
       "      <td>0.270195</td>\n",
       "      <td>0.481727</td>\n",
       "      <td>-0.155800</td>\n",
       "      <td>0.122385</td>\n",
       "      <td>0.044971</td>\n",
       "      <td>0.044971</td>\n",
       "      <td>1.000000</td>\n",
       "      <td>0.994435</td>\n",
       "    </tr>\n",
       "    <tr>\n",
       "      <th>nutrition-score-uk_100g</th>\n",
       "      <td>0.167193</td>\n",
       "      <td>0.069158</td>\n",
       "      <td>0.047316</td>\n",
       "      <td>0.642661</td>\n",
       "      <td>0.581700</td>\n",
       "      <td>0.668462</td>\n",
       "      <td>0.273499</td>\n",
       "      <td>0.479468</td>\n",
       "      <td>-0.151261</td>\n",
       "      <td>0.131272</td>\n",
       "      <td>0.045491</td>\n",
       "      <td>0.045491</td>\n",
       "      <td>0.994435</td>\n",
       "      <td>1.000000</td>\n",
       "    </tr>\n",
       "  </tbody>\n",
       "</table>\n",
       "</div>"
      ],
      "text/plain": [
       "                                         additives_n  \\\n",
       "additives_n                                 1.000000   \n",
       "ingredients_from_palm_oil_n                 0.087379   \n",
       "ingredients_that_may_be_from_palm_oil_n     0.287295   \n",
       "energy_100g                                 0.012770   \n",
       "fat_100g                                   -0.104433   \n",
       "saturated-fat_100g                         -0.023549   \n",
       "carbohydrates_100g                          0.166747   \n",
       "sugars_100g                                 0.168458   \n",
       "fiber_100g                                 -0.160896   \n",
       "proteins_100g                              -0.123339   \n",
       "salt_100g                                  -0.005680   \n",
       "sodium_100g                                -0.005679   \n",
       "nutrition-score-fr_100g                     0.168017   \n",
       "nutrition-score-uk_100g                     0.167193   \n",
       "\n",
       "                                         ingredients_from_palm_oil_n  \\\n",
       "additives_n                                                 0.087379   \n",
       "ingredients_from_palm_oil_n                                 1.000000   \n",
       "ingredients_that_may_be_from_palm_oil_n                     0.174391   \n",
       "energy_100g                                                 0.072629   \n",
       "fat_100g                                                    0.032318   \n",
       "saturated-fat_100g                                          0.061962   \n",
       "carbohydrates_100g                                          0.071044   \n",
       "sugars_100g                                                 0.045020   \n",
       "fiber_100g                                                  0.012364   \n",
       "proteins_100g                                              -0.016466   \n",
       "salt_100g                                                  -0.003559   \n",
       "sodium_100g                                                -0.003559   \n",
       "nutrition-score-fr_100g                                     0.068025   \n",
       "nutrition-score-uk_100g                                     0.069158   \n",
       "\n",
       "                                         ingredients_that_may_be_from_palm_oil_n  \\\n",
       "additives_n                                                             0.287295   \n",
       "ingredients_from_palm_oil_n                                             0.174391   \n",
       "ingredients_that_may_be_from_palm_oil_n                                 1.000000   \n",
       "energy_100g                                                             0.007421   \n",
       "fat_100g                                                                0.001551   \n",
       "saturated-fat_100g                                                      0.036707   \n",
       "carbohydrates_100g                                                      0.015295   \n",
       "sugars_100g                                                             0.019113   \n",
       "fiber_100g                                                             -0.038373   \n",
       "proteins_100g                                                          -0.051180   \n",
       "salt_100g                                                              -0.006839   \n",
       "sodium_100g                                                            -0.006838   \n",
       "nutrition-score-fr_100g                                                 0.048457   \n",
       "nutrition-score-uk_100g                                                 0.047316   \n",
       "\n",
       "                                         energy_100g  fat_100g  \\\n",
       "additives_n                                 0.012770 -0.104433   \n",
       "ingredients_from_palm_oil_n                 0.072629  0.032318   \n",
       "ingredients_that_may_be_from_palm_oil_n     0.007421  0.001551   \n",
       "energy_100g                                 1.000000  0.771595   \n",
       "fat_100g                                    0.771595  1.000000   \n",
       "saturated-fat_100g                          0.551729  0.696459   \n",
       "carbohydrates_100g                          0.564222 -0.038482   \n",
       "sugars_100g                                 0.335126 -0.008467   \n",
       "fiber_100g                                  0.296714  0.158856   \n",
       "proteins_100g                               0.320354  0.323303   \n",
       "salt_100g                                  -0.003361  0.005188   \n",
       "sodium_100g                                -0.003360  0.005188   \n",
       "nutrition-score-fr_100g                     0.632817  0.573197   \n",
       "nutrition-score-uk_100g                     0.642661  0.581700   \n",
       "\n",
       "                                         saturated-fat_100g  \\\n",
       "additives_n                                       -0.023549   \n",
       "ingredients_from_palm_oil_n                        0.061962   \n",
       "ingredients_that_may_be_from_palm_oil_n            0.036707   \n",
       "energy_100g                                        0.551729   \n",
       "fat_100g                                           0.696459   \n",
       "saturated-fat_100g                                 1.000000   \n",
       "carbohydrates_100g                                -0.014497   \n",
       "sugars_100g                                        0.147061   \n",
       "fiber_100g                                        -0.007993   \n",
       "proteins_100g                                      0.213414   \n",
       "salt_100g                                          0.002660   \n",
       "sodium_100g                                        0.002660   \n",
       "nutrition-score-fr_100g                            0.662759   \n",
       "nutrition-score-uk_100g                            0.668462   \n",
       "\n",
       "                                         carbohydrates_100g  sugars_100g  \\\n",
       "additives_n                                        0.166747     0.168458   \n",
       "ingredients_from_palm_oil_n                        0.071044     0.045020   \n",
       "ingredients_that_may_be_from_palm_oil_n            0.015295     0.019113   \n",
       "energy_100g                                        0.564222     0.335126   \n",
       "fat_100g                                          -0.038482    -0.008467   \n",
       "saturated-fat_100g                                -0.014497     0.147061   \n",
       "carbohydrates_100g                                 1.000000     0.625844   \n",
       "sugars_100g                                        0.625844     1.000000   \n",
       "fiber_100g                                         0.273310    -0.025751   \n",
       "proteins_100g                                     -0.129367    -0.272953   \n",
       "salt_100g                                         -0.020069    -0.030076   \n",
       "sodium_100g                                       -0.020069    -0.030075   \n",
       "nutrition-score-fr_100g                            0.270195     0.481727   \n",
       "nutrition-score-uk_100g                            0.273499     0.479468   \n",
       "\n",
       "                                         fiber_100g  proteins_100g  salt_100g  \\\n",
       "additives_n                               -0.160896      -0.123339  -0.005680   \n",
       "ingredients_from_palm_oil_n                0.012364      -0.016466  -0.003559   \n",
       "ingredients_that_may_be_from_palm_oil_n   -0.038373      -0.051180  -0.006839   \n",
       "energy_100g                                0.296714       0.320354  -0.003361   \n",
       "fat_100g                                   0.158856       0.323303   0.005188   \n",
       "saturated-fat_100g                        -0.007993       0.213414   0.002660   \n",
       "carbohydrates_100g                         0.273310      -0.129367  -0.020069   \n",
       "sugars_100g                               -0.025751      -0.272953  -0.030076   \n",
       "fiber_100g                                 1.000000       0.245674  -0.008667   \n",
       "proteins_100g                              0.245674       1.000000   0.028497   \n",
       "salt_100g                                 -0.008667       0.028497   1.000000   \n",
       "sodium_100g                               -0.008669       0.028496   1.000000   \n",
       "nutrition-score-fr_100g                   -0.155800       0.122385   0.044971   \n",
       "nutrition-score-uk_100g                   -0.151261       0.131272   0.045491   \n",
       "\n",
       "                                         sodium_100g  nutrition-score-fr_100g  \\\n",
       "additives_n                                -0.005679                 0.168017   \n",
       "ingredients_from_palm_oil_n                -0.003559                 0.068025   \n",
       "ingredients_that_may_be_from_palm_oil_n    -0.006838                 0.048457   \n",
       "energy_100g                                -0.003360                 0.632817   \n",
       "fat_100g                                    0.005188                 0.573197   \n",
       "saturated-fat_100g                          0.002660                 0.662759   \n",
       "carbohydrates_100g                         -0.020069                 0.270195   \n",
       "sugars_100g                                -0.030075                 0.481727   \n",
       "fiber_100g                                 -0.008669                -0.155800   \n",
       "proteins_100g                               0.028496                 0.122385   \n",
       "salt_100g                                   1.000000                 0.044971   \n",
       "sodium_100g                                 1.000000                 0.044971   \n",
       "nutrition-score-fr_100g                     0.044971                 1.000000   \n",
       "nutrition-score-uk_100g                     0.045491                 0.994435   \n",
       "\n",
       "                                         nutrition-score-uk_100g  \n",
       "additives_n                                             0.167193  \n",
       "ingredients_from_palm_oil_n                             0.069158  \n",
       "ingredients_that_may_be_from_palm_oil_n                 0.047316  \n",
       "energy_100g                                             0.642661  \n",
       "fat_100g                                                0.581700  \n",
       "saturated-fat_100g                                      0.668462  \n",
       "carbohydrates_100g                                      0.273499  \n",
       "sugars_100g                                             0.479468  \n",
       "fiber_100g                                             -0.151261  \n",
       "proteins_100g                                           0.131272  \n",
       "salt_100g                                               0.045491  \n",
       "sodium_100g                                             0.045491  \n",
       "nutrition-score-fr_100g                                 0.994435  \n",
       "nutrition-score-uk_100g                                 1.000000  "
      ]
     },
     "execution_count": 41,
     "metadata": {},
     "output_type": "execute_result"
    }
   ],
   "source": [
    "corr=food.corr(method=\"pearson\")\n",
    "corr"
   ]
  },
  {
   "cell_type": "code",
   "execution_count": 42,
   "metadata": {},
   "outputs": [
    {
     "data": {
      "text/plain": [
       "<AxesSubplot:>"
      ]
     },
     "execution_count": 42,
     "metadata": {},
     "output_type": "execute_result"
    },
    {
     "data": {
      "image/png": "[encoded data removed]",
      "text/plain": [
       "<Figure size 432x288 with 2 Axes>"
      ]
     },
     "metadata": {
      "needs_background": "light"
     },
     "output_type": "display_data"
    }
   ],
   "source": [
    "sns.heatmap(corr, annot=True)"
   ]
  },
  {
   "cell_type": "markdown",
   "metadata": {},
   "source": [
    "---------------"
   ]
  }
 ],
 "metadata": {
  "kernelspec": {
   "display_name": "Python 3.10.5 64-bit",
   "language": "python",
   "name": "python3"
  },
  "language_info": {
   "codemirror_mode": {
    "name": "ipython",
    "version": 3
   },
   "file_extension": ".py",
   "mimetype": "text/x-python",
   "name": "python",
   "nbconvert_exporter": "python",
   "pygments_lexer": "ipython3",
   "version": "3.10.5"
  },
  "orig_nbformat": 4,
  "vscode": {
   "interpreter": {
    "hash": "2fe29ed004e8a5827b0bc705412dd7f8eff18fb8d59289c6ceb606a45bb80c73"
   }
  }
 },
 "nbformat": 4,
 "nbformat_minor": 2
}
